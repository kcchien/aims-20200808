{
  "cells": [
    {
      "cell_type": "markdown",
      "metadata": {},
      "source": [
        "# OpenCV 人臉辨識\n",
        "\n",
        "使用OpenCV的haarcascade模型進行人臉以及眼睛部位的辨別\n",
        "\n",
        "haarcascades的模型可以從opencv 官方的github下載:\n",
        "https://github.com/opencv/opencv/tree/master/data/haarcascades"
      ]
    },
    {
      "cell_type": "code",
      "source": [
        "import cv2\n",
        "import sys\n",
        "from PIL import Image\n",
        "import os"
      ],
      "outputs": [],
      "execution_count": 1,
      "metadata": {
        "collapsed": true,
        "jupyter": {
          "source_hidden": false,
          "outputs_hidden": false
        },
        "nteract": {
          "transient": {
            "deleting": false
          }
        },
        "execution": {
          "iopub.status.busy": "2020-08-08T06:11:55.863Z",
          "iopub.execute_input": "2020-08-08T06:11:55.866Z",
          "iopub.status.idle": "2020-08-08T06:11:56.076Z",
          "shell.execute_reply": "2020-08-08T06:11:56.080Z"
        }
      }
    },
    {
      "cell_type": "code",
      "execution_count": 2,
      "metadata": {},
      "outputs": [],
      "source": [
        "def list_camera():\n",
        "    \"\"\"\n",
        "    這個函數可以將電腦上所有可以用的 Camera都列出來\n",
        "    回傳一個所有可用相機的 index list\n",
        "    例如： [0]\n",
        "    \"\"\"\n",
        "    index = 0\n",
        "    cameras = []\n",
        "\n",
        "    while True:\n",
        "        cap = cv2.VideoCapture(index)\n",
        "        \n",
        "        if not cap.read()[0]:\n",
        "            break\n",
        "        else:\n",
        "            cameras.append(index)\n",
        "\n",
        "        cap.release()\n",
        "        \n",
        "        index += 1\n",
        "    \n",
        "    return cameras"
      ]
    },
    {
      "cell_type": "code",
      "source": [
        "def CatchUsbVideo(window_name, camera_idx):\n",
        "    \"\"\" CatchUsbVideo 函式說明\n",
        "    Args:\n",
        "        window_name: 視窗Title的名稱\n",
        "        camera_idx: 要使用的相機編號\n",
        "\n",
        "    1. 開啟指定的相機，持續讀取影像\n",
        "    2. 對讀取到的影像，判讀是否存在人臉物件\n",
        "    3. 若有偵測到，則對每一個人臉物件畫出標記方框\n",
        "    4. 接著裁取出人臉物件的影像，判讀眼睛物件\n",
        "    5. 對眼睛物件進行畫出標記圓框\n",
        "    \n",
        "    若要中斷程序執行，請按 q 鍵即可\n",
        "    \"\"\"\n",
        "    \n",
        "    # 告訴OpenCV使用人臉識別分類器\n",
        "    classfier_face = cv2.CascadeClassifier(\"haarcascade_frontalface_alt2.xml\")\n",
        "    classfier_eye = cv2.CascadeClassifier(\"haarcascade_eye.xml\")\n",
        "    \n",
        "    cv2.namedWindow(window_name)\n",
        "\n",
        "    # 開啟相機\n",
        "    cap = cv2.VideoCapture(camera_idx)\n",
        "\n",
        "\n",
        "    # 識別出人臉後要畫的邊框的顏色，BGR格式\n",
        "    # OpenCV預設是 BGR 模式，不是 RGB 模式\n",
        "    color_blue = (255, 0, 0)\n",
        "    color_green = (0, 255, 0)\n",
        "    color_red = (0, 0, 255)\n",
        "\n",
        "    # 開啟相機，並持續的讀取相機所傳送進來的影像\n",
        "    while cap.isOpened():\n",
        "\n",
        "        ok, frame = cap.read() #讀取一幀資料\n",
        "        \n",
        "        if not ok:\n",
        "            break\n",
        "\n",
        "        # 將當前幀轉換成灰度影象\n",
        "        # cv2.CascadeClassifier分類別只接受灰階影像\n",
        "        grey = cv2.cvtColor(frame, cv2.COLOR_BGR2GRAY)\n",
        "\n",
        "        # 人臉檢測，1.2和2分別為圖片縮放比例和需要檢測的有效點數\n",
        "        faceRects = classfier_face.detectMultiScale(grey, \n",
        "            scaleFactor = 1.2, \n",
        "            minNeighbors = 3,\n",
        "            minSize = (32, 32))\n",
        "\n",
        "        # faceRects 大於0，表示偵測到人臉，數值則是偵測到的人臉數目\n",
        "        # 如果偵測到人臉物件，對人臉物體進行畫框標記\n",
        "        if len(faceRects) > 0 :\n",
        "                                                         \n",
        "            for faceRect in faceRects:  #單獨框出每一張人臉\n",
        "                # 取得該人臉物件的座標位址，以及長寬尺寸\n",
        "                x, y, w, h = faceRect\n",
        "                \n",
        "                # 對人臉物件進行畫標記框\n",
        "                # 可參照GT Wang 大大的文章，很清楚易懂\n",
        "                # https://blog.gtwang.org/programming/opencv-drawing-functions-tutorial/\n",
        "                # cv2.rectangle(影像內容, 頂點座標, 對向頂點座標, 顏色, 線條寬度)\n",
        "                cv2.rectangle(frame, (x-10, y-10), (x+w, y+h), color_green, 2)                    \n",
        "                \n",
        "                # 只裁出該人臉物件的部份，可以減少運算量\n",
        "                eye_grey = grey[y:y+h, x:x+w] # 灰度圖\n",
        "                eye_color = frame[y:y+h, x:x+w] # 原始彩色圖\n",
        "\n",
        "                # 把人臉的部份，偵測其眼睛物件\n",
        "                eyeCircle = classfier_eye.detectMultiScale(eye_grey)\n",
        "                \n",
        "                # 把偵測到的眼睛畫圓框\n",
        "                if len(eyeCircle) > 0:\n",
        "                    for eyeCle in eyeCircle:\n",
        "                        ex, ey, ew,eh = eyeCle\n",
        "                        \n",
        "                        # 先找出圓心點\n",
        "                        center_of_circle = (int(ex+0.5*ew), int(ey+0.5*eh))\n",
        "                        # 算出半徑\n",
        "                        radius = int(ew*0.5)\n",
        "                        # cv2.circle(影像, 圓心座標, 半徑, 顏色, 線條寬度)\n",
        "                        cv2.circle(eye_color, center_of_circle, radius, color_red, 2)\n",
        "\n",
        "        # 顯示影象\n",
        "        cv2.imshow(window_name, frame)\n",
        "        c = cv2.waitKey(10)\n",
        "        \n",
        "        # 按 q 鍵中斷\n",
        "        if c & 0xFF == ord('q'):\n",
        "            break\n",
        "\n",
        "    #釋放攝像頭並銷燬所有視窗\n",
        "    cap.release()\n",
        "    cv2.destroyAllWindows()\n"
      ],
      "outputs": [],
      "execution_count": 3,
      "metadata": {
        "collapsed": true,
        "jupyter": {
          "source_hidden": false,
          "outputs_hidden": false
        },
        "nteract": {
          "transient": {
            "deleting": false
          }
        },
        "execution": {
          "iopub.status.busy": "2020-08-08T06:11:59.521Z",
          "iopub.execute_input": "2020-08-08T06:11:59.524Z",
          "iopub.status.idle": "2020-08-08T06:11:59.532Z",
          "shell.execute_reply": "2020-08-08T06:11:59.537Z"
        }
      }
    },
    {
      "cell_type": "code",
      "execution_count": 4,
      "metadata": {
        "tags": []
      },
      "outputs": [
        {
          "output_type": "stream",
          "name": "stdout",
          "text": "[0]\n"
        }
      ],
      "source": [
        "# 找出自己環境上可用的相機\n",
        "cameras = list_camera()\n",
        "print(cameras)"
      ]
    },
    {
      "cell_type": "code",
      "source": [
        "if len(cameras) > 0:\n",
        "    # 指定要使用的相機\n",
        "    camera = cameras[0]\n",
        "    CatchUsbVideo(\"Age for face\", camera)"
      ],
      "outputs": [],
      "execution_count": null,
      "metadata": {
        "collapsed": true,
        "jupyter": {
          "source_hidden": false,
          "outputs_hidden": false
        },
        "nteract": {
          "transient": {
            "deleting": false
          }
        },
        "execution": {
          "iopub.status.busy": "2020-08-08T06:12:03.788Z",
          "iopub.execute_input": "2020-08-08T06:12:03.794Z"
        }
      }
    }
  ],
  "metadata": {
    "kernel_info": {
      "name": "nthu20200808"
    },
    "language_info": {
      "name": "python",
      "version": "3.7.6",
      "mimetype": "text/x-python",
      "codemirror_mode": {
        "name": "ipython",
        "version": 3
      },
      "pygments_lexer": "ipython3",
      "nbconvert_exporter": "python",
      "file_extension": ".py"
    },
    "kernelspec": {
      "argv": [
        "/Users/kc/opt/anaconda3/bin/python",
        "-m",
        "ipykernel_launcher",
        "-f",
        "{connection_file}"
      ],
      "display_name": "NTHU20200808",
      "language": "python",
      "name": "nthu20200808"
    },
    "nteract": {
      "version": "0.24.1"
    }
  },
  "nbformat": 4,
  "nbformat_minor": 0
}